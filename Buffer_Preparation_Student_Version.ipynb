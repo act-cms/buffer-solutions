{
  "nbformat": 4,
  "nbformat_minor": 0,
  "metadata": {
    "colab": {
      "provenance": []
    },
    "kernelspec": {
      "name": "python3",
      "display_name": "Python 3"
    },
    "language_info": {
      "name": "python"
    }
  },
  "cells": [
    {
      "cell_type": "markdown",
      "source": [
        "# Buffer Preparation Calculations (Piloted Spring 2025)(Student Version)\n",
        "\n",
        "## ***Important: File → Save a copy in Drive (Do this first so you can save your work!)***\n",
        "\n",
        "**Prior Knowledge Needed**\n",
        "*   The pH Scale and pKa Values\n",
        "*   Buffer Solutions\n",
        "*   Henderson-Hasselbalch Equation\n",
        "*   Solution Stoichiometry\n",
        "\n",
        "**Content Learning Objectives:**\n",
        "*  Apply the concept of a pKa value to select reagents for a buffer solution\n",
        "*  Apply the concept of buffer capacity to plan and prepare a buffer solution\n",
        "\n",
        "**Process Learning Objectives:**\n",
        "*   Use Python code to define variables and functions, and to perform calculations\n",
        "*   Use Python code to report the output of calculations in a specified format\n",
        "*   Understand how to redefine variables and re-run code if necessary\n",
        "\n",
        "**Overview:** This Jupyter notebook can be used to generate code in Python to perform four basic tasks:\n",
        "1.   Calculate the allowable range of pH values for your assigned buffer;\n",
        "2.   Use the Henderson-Hasselbalch equation to calculate the corresponding mole ratios of conjugate base to conjugate acid;\n",
        "3.   Use solution stoichiometry and an adjustable scale factor to calculate the moles of conjugate base and conjugate acid to combine;\n",
        "4.   Use molar masses and densities if applicable to calculate the mass of each solid reagent and volume of each liquid reagent to combine.\n",
        "\n",
        "#### **Important**: Follow the procedure in your lab notebook, editing as needed.  This Jupyter notebook only does the basic calculations.  It does *not* guarantee a specific outcome, and it does *not* include all steps to follow.\n",
        "\n",
        "First, find the conjugate acid/base pair that you will use to prepare your buffer solution. Find the bottles; make sure they are the correct ones; and write down any additional information found (including whether each chemical is a solid or a liquid). The options are listed below with their pK$_a$ values.  The mole ratio will affect your buffer pH.  You also may use 0.10 M or 1.0 M HCl or NaOH dropwise to adjust your buffer pH.\n",
        "\n",
        "\n",
        "Base | Conjugate Acid | pK$_a$ |\n",
        "--- | --- | --- |\n",
        "Sodium formate, NaHCOO\t| Formic acid, HCOOH (D = 1.22 g/mL)\t| 3.74 |\n",
        "Sodium acetate, NaCH$_3$COO |\tAcetic acid, CH$_3$COOH (D = 1.05 g/mL)\t |4.75 |\n",
        "Potassium dihydrogen phosphate, KH$_2$PO$_4$ |\tPhosphoric acid, H$_3$PO$_4$ (D = 1.69 g/mL)\t| 2.15 |\n",
        "Potassium hydrogen phosphate, K$_2$HPO$_4$ |\tPotassium dihydrogen phosphate, KH$_2$PO$_4$ |\t7.12 |\n",
        "Potassium phosphate tribasic, K$_3$HPO$_4$ |\tPotassium hydrogen phosphate, K$_2$HPO$_4$\t| 12.4 |\n",
        "Sodium carbonate, Na$_2$CO$_3$ |\tSodium bicarbonate, NaHCO$_3$ |\t10.3|"
      ],
      "metadata": {
        "id": "o0I5x5LHrNhW"
      }
    },
    {
      "cell_type": "markdown",
      "source": [
        "### Task 1: Calculate the allowable range of pH values\n",
        "Note that the pH must not change by more than 0.10 pH unit when 0.025 mmol of HCl is added.\n",
        "\n",
        "Using the information above:\n",
        "\n",
        "1a) Double-click right here in this **text cell**.  \n",
        "\n",
        "1b) Enter the **pK$_a$ value** for your chosen pair from the chart above.  Then enter the **pH value** assigned to you.  \n",
        "\n",
        "1c) Type into each of the subheadings to **explain the purpose** of each line of sample-code below the dividing line in this text cell (they should look like the example shown here).\n",
        "\n",
        "---\n",
        "```\n",
        "#### The code below is for:\n",
        "```\n",
        "---\n",
        "\n",
        "1d) Finally, copy/paste all the code along with your explanations into the **code cell** just below this text cell, and run it.  Ask for help if needed.\n",
        "\n",
        "---\n",
        "```python\n",
        "#### The code below is for:\n",
        "pKa =\n",
        "pH =\n",
        "\n",
        "#### The code below is for:\n",
        "pH_change = 0.10\n",
        "\n",
        "#### The code below is for:\n",
        "min_pH = pH - pH_change\n",
        "max_pH = pH + pH_change\n",
        "\n",
        "#### The code below is for:\n",
        "print(f\"Range of acceptable pH values: {min_pH:.2f} to {max_pH:.2f}\")\n",
        "\n",
        "```\n",
        "---"
      ],
      "metadata": {
        "id": "G6iFnQmP5s9L"
      }
    },
    {
      "cell_type": "code",
      "source": [],
      "metadata": {
        "id": "NvE1IoVD5qOV"
      },
      "execution_count": null,
      "outputs": []
    },
    {
      "cell_type": "markdown",
      "source": [
        "### Task 2: Use the Henderson-Hasselbalch equation to calculate mole ratios\n",
        "\n",
        "The Henderson-Hasselbalch equation relates the pH of a buffer solution to the pK$_a$ and the ratio of conjugate base to conjugate acid.  The sample-code below will calculate both the desired mole ratio and the minimum acceptable mole ratio.  Recall that the inverse of the log function is a power of 10.\n",
        "\n",
        "$pH = pK_a + log\\left(\\frac{base}{acid}\\right)$\n",
        "\n",
        "Using the information above:\n",
        "\n",
        "2a) Double-click here in this **text cell** and type into each of the comment lines to **explain the purpose** of each line of sample-code below in this text cell(they should look like the example shown here).\n",
        "\n",
        "---\n",
        "```\n",
        "#### The code below is for:\n",
        "```\n",
        "---\n",
        "\n",
        "2b) Finally, copy/paste all the code along with your explanations into the **code cell** just below this text cell, and run it.  Ask for help if needed.\n",
        "\n",
        "---\n",
        "```python\n",
        "#### The code below is for:\n",
        "desired_mole_ratio = 10**(pH - pKa)\n",
        "#### The code below is for:\n",
        "min_mole_ratio = 10**(min_pH - pKa)\n",
        "\n",
        "#### The code below is commented out, so it will not run.  You do not need the max mole ratio, but it is here in case you may need it in the future.\n",
        "#max_mole_ratio = 10**(max_pH - pKa)\n",
        "\n",
        "#### The code below is for:\n",
        "print(f\"Mole ratio (desired, minimum)\")\n",
        "round(desired_mole_ratio,2), round(min_mole_ratio,2)#, round(max_mole_ratio,2)\n",
        "```\n",
        "---\n"
      ],
      "metadata": {
        "id": "xoxHSX4v9j6K"
      }
    },
    {
      "cell_type": "code",
      "source": [],
      "metadata": {
        "id": "-wTPJfbr-mdR"
      },
      "execution_count": null,
      "outputs": []
    },
    {
      "cell_type": "markdown",
      "source": [
        "### Task 3: Use solution stoichiometry and an adjustable scale factor to calculate millimoles\n",
        "\n",
        "To determine the millimoles of base needed in 100.0 mL of your buffer, note that the mole ratio must not change by more than the amount calculated above when 0.025 mmol of HCl is added to 25.0 mL of your buffer.  That would amount to 0.100 mmol of HCl added to 100.0 mL of your buffer.\n",
        "\n",
        "$\\frac{mmol\\ base}{mmol\\ acid} = desired\\ mole\\ ratio$\n",
        "\n",
        "$\\frac{mmol\\ base - 0.100}{mmol\\ acid + 0.100} \\ge min\\ mole\\ ratio$\n",
        "\n",
        "$mmol\\ base \\ge 0.100 + (mmol\\ base)\\cdot\\frac{min\\ mole\\ ratio}{desired\\ mole\\ ratio} + 0.100 \\cdot (min\\ mole\\ ratio)$\n",
        "\n",
        "$(mmol\\ base)\\cdot\\left(1 - \\frac{min\\ mole\\ ratio}{desired\\ mole\\ ratio}\\right)\\ge 0.100 \\cdot\\left(1+ min\\ mole\\ ratio\\right)$\n",
        "\n",
        "$ \\therefore (mmol\\ base)\\ge 0.100 \\cdot \\frac{1+ min\\ mole\\ ratio}{1 - \\frac{min\\ mole\\ ratio}{desired\\ mole\\ ratio}}$\n",
        "\n",
        "It is recommended in the textbook to scale up the amount of base by a factor of 2-3 just to be safe.  The default value given here is much higher, 25, based on student feedback from last year.\n",
        "IMPORTANT: If you are re-making your buffer because it is not strong enough, you may increase this scale factor in the code cell below.\n",
        "\n",
        "Using the information above:\n",
        "\n",
        "3a) Double-click right here in this **text cell**.  \n",
        "\n",
        "3b) Change the **scale factor** if needed.  ***Important***: Each time you change this here, be sure to record that change in your handwritten lab notebook.    \n",
        "\n",
        "3c) Type into each of the subheadings to **explain the purpose** of each line of sample-code below the dividing line in this text cell (they should look like the example shown here).\n",
        "\n",
        "---\n",
        "```\n",
        "#### The code below is for:\n",
        "```\n",
        "---\n",
        "\n",
        "3d) Finally, copy/paste all the code along with your explanations into the **code cell** just below this text cell, and run it.  Ask for help if needed.\n",
        "\n",
        "---\n",
        "```python\n",
        "#### The code below is for:\n",
        "mmol_base_needed = 0.100*(1+min_mole_ratio)/(1-(min_mole_ratio/desired_mole_ratio))\n",
        "\n",
        "#### The code below is for:\n",
        "scale_factor = 25\n",
        "#### The code below is for:\n",
        "mmol_base_recommended = mmol_base_needed * scale_factor\n",
        "\n",
        "#### The code below is for:\n",
        "print(f\"Millimoles of base (needed): {mmol_base_needed:.4f} mmol, (recommended): {mmol_base_recommended:.4f} mmol\")\n",
        "```\n",
        "---"
      ],
      "metadata": {
        "id": "OkBgVckuMbqY"
      }
    },
    {
      "cell_type": "code",
      "source": [],
      "metadata": {
        "id": "ixx9tvUARrOP"
      },
      "execution_count": null,
      "outputs": []
    },
    {
      "cell_type": "markdown",
      "source": [
        "### Task 4: Use molar masses and densities if applicable to calculate the appropriate quantities of each reagent to combine.\n",
        "\n",
        "In the chemical laboratory, we cannot simply count out millimoles of a given chemical.  For a solid, we need to use a balance to quantitatively transfer the appropriate mass in g.  For a liquid, we may use a graduated volumetric transfer pipet to quantitatively transfer the appropriate volume in mL.\n",
        "\n",
        "The sample-code below can be used to calculate the recommended masses (and volumes if applicable), but it requires information that is accessible to you in the laboratory and that should also be recorded in your laboratory notebook: formula masses of your conjugate acid and conjugate base, and densities of liquids if applicable.\n",
        "\n",
        "In the code cell below, enter the formula mass in grams per mole of your chosen solid base from the bottle in lab.  Then enter the formula mass in grams per mole of your chosen conjugate acid from the bottle in lab.\n",
        "\n",
        "If your chosen conjugate acid is a **liquid**, please uncomment the three lines of code corresponding to liquid density, and **enter its density**.  \n",
        "\n",
        "You can multiply the moles by molar mass to solve for mass, and if your acid is a liquid, you can divide mass by density to solve for volume.  Please do not weigh a pure liquid acid on the analytical balance!\n",
        "\n",
        "Using the information above:\n",
        "\n",
        "4a) Double-click right here in this **text cell**.  \n",
        "\n",
        "4b) Enter the **formula masses** (*FW*) in grams per mole of your chosen conjugate base and conjugate acid from the labels on the bottles in lab.  \n",
        "\n",
        "4c) If your chosen conjugate acid is a **liquid**, please **uncomment** three lines of code corresponding to liquid acids by removing their hashtags, and enter the **liquid density** on the first of these three lines.  If not, please ignore this step.  The commented code will not execute.\n",
        "\n",
        "4d) Type into each of the subheadings to **explain the purpose** of each line of sample-code below the dividing line in this text cell (they should look like the example shown here).\n",
        "\n",
        "---\n",
        "```\n",
        "#### The code below is for:\n",
        "```\n",
        "---\n",
        "\n",
        "4e) Finally, copy/paste all the code along with your explanations into the **code cell** just below this text cell, and run it.  Ask for help if needed.\n",
        "\n",
        "---\n",
        "```python\n",
        "#### The code below is for:\n",
        "FW_b =\n",
        "#### The code below is for:\n",
        "FW_a =\n",
        "\n",
        "#### The code below is for:\n",
        "#LD_a =\n",
        "\n",
        "#### The code below is for:\n",
        "mass_of_base_in_grams = mmol_base_recommended*FW_b/1000\n",
        "#### The code below is for:\n",
        "mass_of_acid_in_grams = (mmol_base_recommended/desired_mole_ratio)* FW_a /1000\n",
        "\n",
        "#### The code below is for:\n",
        "#volume_of_acid_in_mL = mass_of_acid_in_grams/LD_a\n",
        "\n",
        "#### The code below is for:\n",
        "print(f\"Mass of base (recommended): {mass_of_base_in_grams:.4f} g, Mass of acid (recommended): {mass_of_acid_in_grams:.4f} g\")\n",
        "#print(f\"Volume of acid (recommended): {volume_of_acid_in_mL:.3f} mL\")\n",
        "```\n",
        "---"
      ],
      "metadata": {
        "id": "9mmZqDtu5v-b"
      }
    },
    {
      "cell_type": "code",
      "source": [],
      "metadata": {
        "id": "ZzKk1QUB6McV"
      },
      "execution_count": null,
      "outputs": []
    },
    {
      "cell_type": "markdown",
      "source": [
        "Use these calculated amounts to guide your measurements when preparing your buffer.\n",
        "\n",
        "*After* you have obtained instructor verification of your prepared buffer (**with well-deserved congratulations**), please download your copy of this notebook to turn in.\n",
        "\n",
        "Remember to write a summary in your laboratory notebook, by hand, and to turn in copies of your notebook pages."
      ],
      "metadata": {
        "id": "3v530V04rMfU"
      }
    }
  ]
}